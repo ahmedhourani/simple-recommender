{
 "cells": [
  {
   "cell_type": "markdown",
   "id": "f48564bf",
   "metadata": {},
   "source": [
    "### imports"
   ]
  },
  {
   "cell_type": "code",
   "execution_count": 1,
   "id": "b68cfb7a",
   "metadata": {},
   "outputs": [],
   "source": [
    "import numpy as np\n",
    "import pandas as pd\n",
    "import matplotlib.pyplot as plt\n",
    "from sklearn.decomposition import PCA\n",
    "from sklearn.linear_model import LinearRegression, LogisticRegression\n",
    "import time\n",
    "from sklearn.metrics import confusion_matrix"
   ]
  },
  {
   "cell_type": "markdown",
   "id": "23369249",
   "metadata": {},
   "source": [
    "read the data"
   ]
  },
  {
   "cell_type": "code",
   "execution_count": 2,
   "id": "26e82e7b",
   "metadata": {},
   "outputs": [
    {
     "data": {
      "text/html": [
       "<div>\n",
       "<style scoped>\n",
       "    .dataframe tbody tr th:only-of-type {\n",
       "        vertical-align: middle;\n",
       "    }\n",
       "\n",
       "    .dataframe tbody tr th {\n",
       "        vertical-align: top;\n",
       "    }\n",
       "\n",
       "    .dataframe thead th {\n",
       "        text-align: right;\n",
       "    }\n",
       "</style>\n",
       "<table border=\"1\" class=\"dataframe\">\n",
       "  <thead>\n",
       "    <tr style=\"text-align: right;\">\n",
       "      <th></th>\n",
       "      <th>user_id</th>\n",
       "      <th>item_id</th>\n",
       "      <th>rating</th>\n",
       "      <th>timestamp</th>\n",
       "    </tr>\n",
       "  </thead>\n",
       "  <tbody>\n",
       "    <tr>\n",
       "      <th>0</th>\n",
       "      <td>0</td>\n",
       "      <td>50</td>\n",
       "      <td>5</td>\n",
       "      <td>881250949</td>\n",
       "    </tr>\n",
       "    <tr>\n",
       "      <th>1</th>\n",
       "      <td>0</td>\n",
       "      <td>172</td>\n",
       "      <td>5</td>\n",
       "      <td>881250949</td>\n",
       "    </tr>\n",
       "    <tr>\n",
       "      <th>2</th>\n",
       "      <td>0</td>\n",
       "      <td>133</td>\n",
       "      <td>1</td>\n",
       "      <td>881250949</td>\n",
       "    </tr>\n",
       "    <tr>\n",
       "      <th>3</th>\n",
       "      <td>196</td>\n",
       "      <td>242</td>\n",
       "      <td>3</td>\n",
       "      <td>881250949</td>\n",
       "    </tr>\n",
       "    <tr>\n",
       "      <th>4</th>\n",
       "      <td>186</td>\n",
       "      <td>302</td>\n",
       "      <td>3</td>\n",
       "      <td>891717742</td>\n",
       "    </tr>\n",
       "    <tr>\n",
       "      <th>...</th>\n",
       "      <td>...</td>\n",
       "      <td>...</td>\n",
       "      <td>...</td>\n",
       "      <td>...</td>\n",
       "    </tr>\n",
       "    <tr>\n",
       "      <th>99998</th>\n",
       "      <td>880</td>\n",
       "      <td>476</td>\n",
       "      <td>3</td>\n",
       "      <td>880175444</td>\n",
       "    </tr>\n",
       "    <tr>\n",
       "      <th>99999</th>\n",
       "      <td>716</td>\n",
       "      <td>204</td>\n",
       "      <td>5</td>\n",
       "      <td>879795543</td>\n",
       "    </tr>\n",
       "    <tr>\n",
       "      <th>100000</th>\n",
       "      <td>276</td>\n",
       "      <td>1090</td>\n",
       "      <td>1</td>\n",
       "      <td>874795795</td>\n",
       "    </tr>\n",
       "    <tr>\n",
       "      <th>100001</th>\n",
       "      <td>13</td>\n",
       "      <td>225</td>\n",
       "      <td>2</td>\n",
       "      <td>882399156</td>\n",
       "    </tr>\n",
       "    <tr>\n",
       "      <th>100002</th>\n",
       "      <td>12</td>\n",
       "      <td>203</td>\n",
       "      <td>3</td>\n",
       "      <td>879959583</td>\n",
       "    </tr>\n",
       "  </tbody>\n",
       "</table>\n",
       "<p>100003 rows × 4 columns</p>\n",
       "</div>"
      ],
      "text/plain": [
       "        user_id  item_id  rating  timestamp\n",
       "0             0       50       5  881250949\n",
       "1             0      172       5  881250949\n",
       "2             0      133       1  881250949\n",
       "3           196      242       3  881250949\n",
       "4           186      302       3  891717742\n",
       "...         ...      ...     ...        ...\n",
       "99998       880      476       3  880175444\n",
       "99999       716      204       5  879795543\n",
       "100000      276     1090       1  874795795\n",
       "100001       13      225       2  882399156\n",
       "100002       12      203       3  879959583\n",
       "\n",
       "[100003 rows x 4 columns]"
      ]
     },
     "execution_count": 2,
     "metadata": {},
     "output_type": "execute_result"
    }
   ],
   "source": [
    "columns = ['user_id','item_id','rating','timestamp']\n",
    "df = pd.read_csv('u.data.txt', sep='\\t', names=columns)\n",
    "df"
   ]
  },
  {
   "cell_type": "markdown",
   "id": "6dff3367",
   "metadata": {},
   "source": [
    "<hr>\n",
    "distribution of average movie rating and number of ratings per movie"
   ]
  },
  {
   "cell_type": "code",
   "execution_count": 3,
   "id": "5ebb4c16",
   "metadata": {},
   "outputs": [
    {
     "data": {
      "image/png": "[encoded data removed]",
      "text/plain": [
       "<Figure size 640x480 with 2 Axes>"
      ]
     },
     "metadata": {},
     "output_type": "display_data"
    }
   ],
   "source": [
    "df.groupby('item_id')['rating'].agg(['mean','count']).hist()\n",
    "plt.show()"
   ]
  },
  {
   "cell_type": "markdown",
   "id": "bf525601",
   "metadata": {},
   "source": [
    "### create a user-item matrix where the values are the ratings"
   ]
  },
  {
   "cell_type": "code",
   "execution_count": 5,
   "id": "3d9a8d5b",
   "metadata": {},
   "outputs": [],
   "source": [
    "pivot = pd.pivot(df,index='item_id',columns='user_id',values='rating').fillna(0)"
   ]
  },
  {
   "cell_type": "code",
   "execution_count": 6,
   "id": "4fa8eaf7",
   "metadata": {},
   "outputs": [],
   "source": [
    "# remove items with less than 20 ratings\n",
    "pivot = pivot.loc[pivot.sum(axis=1)>=20]"
   ]
  },
  {
   "cell_type": "markdown",
   "id": "23eae3a7",
   "metadata": {},
   "source": [
    "use PCA to reduce dimensionality to just 2 dimensions"
   ]
  },
  {
   "cell_type": "code",
   "execution_count": 11,
   "id": "bc30edf7",
   "metadata": {},
   "outputs": [],
   "source": [
    "model = PCA(n_components=2).fit(pivot)"
   ]
  },
  {
   "cell_type": "code",
   "execution_count": 13,
   "id": "829174aa",
   "metadata": {},
   "outputs": [
    {
     "name": "stdout",
     "output_type": "stream",
     "text": [
      "[0.79283407 0.20716593]\n"
     ]
    }
   ],
   "source": [
    "pred = model.transform(pivot)\n",
    "explained_var = model.explained_variance_ / model.explained_variance_.sum()\n",
    "print(explained_var)"
   ]
  },
  {
   "cell_type": "markdown",
   "id": "2be266ad",
   "metadata": {},
   "source": [
    "ploting the 2 dimensions"
   ]
  },
  {
   "cell_type": "code",
   "execution_count": 14,
   "id": "c024adbd",
   "metadata": {},
   "outputs": [
    {
     "data": {
      "image/png": "[encoded data removed]",
      "text/plain": [
       "<Figure size 640x480 with 1 Axes>"
      ]
     },
     "metadata": {},
     "output_type": "display_data"
    }
   ],
   "source": [
    "plt.scatter(pred[:,0],pred[:,1])\n",
    "plt.show()"
   ]
  },
  {
   "cell_type": "markdown",
   "id": "3f9b7b6a",
   "metadata": {},
   "source": [
    "## collaborative filtering movie recommendation using correlation"
   ]
  },
  {
   "cell_type": "markdown",
   "id": "061802eb",
   "metadata": {},
   "source": [
    "let's take movie 181 as an example. calculate the correlation between movie 181 and all other movies"
   ]
  },
  {
   "cell_type": "code",
   "execution_count": 16,
   "id": "a7d51435",
   "metadata": {},
   "outputs": [],
   "source": [
    "index = 181\n",
    "corrs = pivot.T.corrwith(pivot.T[index])"
   ]
  },
  {
   "cell_type": "markdown",
   "id": "90ca761b",
   "metadata": {},
   "source": [
    "sort the correlations in descending order "
   ]
  },
  {
   "cell_type": "code",
   "execution_count": 114,
   "id": "aebf67c9",
   "metadata": {},
   "outputs": [
    {
     "data": {
      "text/plain": [
       "item_id\n",
       "50     0.746797\n",
       "172    0.548797\n",
       "174    0.503323\n",
       "210    0.478037\n",
       "121    0.455964\n",
       "         ...   \n",
       "306   -0.118851\n",
       "302   -0.125226\n",
       "303   -0.144714\n",
       "340   -0.159143\n",
       "286   -0.181992\n",
       "Length: 1234, dtype: float64"
      ]
     },
     "execution_count": 114,
     "metadata": {},
     "output_type": "execute_result"
    }
   ],
   "source": [
    "corrs.sort_values(ascending=False).drop(index)"
   ]
  },
  {
   "cell_type": "markdown",
   "id": "c57f9e7c",
   "metadata": {},
   "source": [
    "now we can take the top 5 movies as recommendations. Any user who liked movie 181 can be recommended the following movies:\n",
    "50,172,174,210,121"
   ]
  },
  {
   "cell_type": "markdown",
   "id": "da925ad6",
   "metadata": {},
   "source": [
    "### Let's try to create a simple logistic regression to predict whether a certain user would like a specific movie."
   ]
  },
  {
   "cell_type": "markdown",
   "id": "6bfd36e8",
   "metadata": {},
   "source": [
    "here, we will change the ratings to binary. 1 if rated and 0 if not rated."
   ]
  },
  {
   "cell_type": "code",
   "execution_count": 17,
   "id": "794791ff",
   "metadata": {},
   "outputs": [],
   "source": [
    "pivot_bin = (pivot>0).astype(int)"
   ]
  },
  {
   "cell_type": "markdown",
   "id": "2d594377",
   "metadata": {},
   "source": [
    "we want to try to predict a movie which is rated a lot of times so that we'll have a lot of samples with 1's and a lot of samples with 0's thus creating a balanced dataset with many training samples. to do this, we'll choose the most rated movie"
   ]
  },
  {
   "cell_type": "code",
   "execution_count": 18,
   "id": "a065d3e2",
   "metadata": {},
   "outputs": [
    {
     "data": {
      "text/plain": [
       "item_id\n",
       "50    584\n",
       "dtype: int64"
      ]
     },
     "execution_count": 18,
     "metadata": {},
     "output_type": "execute_result"
    }
   ],
   "source": [
    "#most rated movie\n",
    "pivot_bin.sum(axis=1).sort_values(ascending=False).iloc[[0]]"
   ]
  },
  {
   "cell_type": "markdown",
   "id": "c3769f8a",
   "metadata": {},
   "source": [
    "movie id: 50  \n",
    "users who watched it: 584"
   ]
  },
  {
   "cell_type": "code",
   "execution_count": 19,
   "id": "8386fce2",
   "metadata": {},
   "outputs": [
    {
     "data": {
      "text/plain": [
       "944"
      ]
     },
     "execution_count": 19,
     "metadata": {},
     "output_type": "execute_result"
    }
   ],
   "source": [
    "pivot_bin.shape[1]"
   ]
  },
  {
   "cell_type": "markdown",
   "id": "e6c68cdc",
   "metadata": {},
   "source": [
    "total number of users: 944  \n",
    "\n",
    "as a baseline model we can predict that everyone watched it and we would be correct 584/994 times (59% of the time)"
   ]
  },
  {
   "cell_type": "code",
   "execution_count": 20,
   "id": "35ddbea4",
   "metadata": {},
   "outputs": [
    {
     "data": {
      "text/plain": [
       "((944, 1234), (944,))"
      ]
     },
     "execution_count": 20,
     "metadata": {},
     "output_type": "execute_result"
    }
   ],
   "source": [
    "# LogisticRegression\n",
    "x = pivot_bin.T.drop(50,axis=1).values\n",
    "y = pivot_bin.T[[50]].values.ravel()\n",
    "x.shape, y.shape"
   ]
  },
  {
   "cell_type": "markdown",
   "id": "473f909f",
   "metadata": {},
   "source": [
    "split data into train and test"
   ]
  },
  {
   "cell_type": "code",
   "execution_count": 23,
   "id": "2076ee4e",
   "metadata": {},
   "outputs": [],
   "source": [
    "train_len = int(len(x)*0.7)\n",
    "\n",
    "x_train = x[:train_len]\n",
    "y_train = y[:train_len]\n",
    "x_test = x[train_len:]\n",
    "y_test = y[train_len:]"
   ]
  },
  {
   "cell_type": "markdown",
   "id": "1fcfc61b",
   "metadata": {},
   "source": [
    "build and fit the logistic regression model"
   ]
  },
  {
   "cell_type": "code",
   "execution_count": 22,
   "id": "82543a3b",
   "metadata": {},
   "outputs": [],
   "source": [
    "model = LogisticRegression()\n",
    "model.fit(x_train,y_train)\n",
    "pred = model.predict(x_test)"
   ]
  },
  {
   "cell_type": "code",
   "execution_count": 198,
   "id": "c373b0b2",
   "metadata": {},
   "outputs": [
    {
     "data": {
      "text/plain": [
       "0.8591549295774648"
      ]
     },
     "execution_count": 198,
     "metadata": {},
     "output_type": "execute_result"
    }
   ],
   "source": [
    "(pred == y_test).mean()"
   ]
  },
  {
   "cell_type": "code",
   "execution_count": 199,
   "id": "2f7cfe52",
   "metadata": {},
   "outputs": [
    {
     "data": {
      "text/plain": [
       "array([[ 91,  21],\n",
       "       [ 19, 153]], dtype=int64)"
      ]
     },
     "execution_count": 199,
     "metadata": {},
     "output_type": "execute_result"
    }
   ],
   "source": [
    "confusion_matrix(y_test,pred)"
   ]
  },
  {
   "cell_type": "markdown",
   "id": "8674e582",
   "metadata": {},
   "source": [
    "we received an accuracy of 86%, which is much higher than the baseline model accuracy (59%)  \n",
    "\n",
    "this is a very good method for prediction, especially if we use more complicated models such as neural networks, random forest, or XGBoost. However, this method is somewhat computationally expensive as we would need to fit a model for every single possible movie. Also, it will be less effective for movies that have not been rated many times."
   ]
  },
  {
   "cell_type": "markdown",
   "id": "93c3cf1c",
   "metadata": {},
   "source": [
    "# other possible methods for recommendation"
   ]
  },
  {
   "cell_type": "markdown",
   "id": "6ad7bf58",
   "metadata": {},
   "source": [
    "- we did collaborative filtering based on movie-to-movie similarity. similar methods can be done for user-to-user similarity\n",
    "- content-based filtering\n",
    "- PCA for dimensionality reduction, then similarity calculation (either euclidean, cosine, jaccard, or correlation)\n",
    "- for business problems where it's expected that the order matters, we can use an RNN to predict the next movie someone will watch based on the past n number of movies they watched\n",
    "- recommendation just based on ratings. To factor in that some less ranked movies may have high ratings which are statistically significant, we can calculate a confidence interval and take the lower value. let's say we decide to always take 2 standard deviations below mean. \n",
    "   - e.g: a movie has 50 ratings with an average rating of 3.8 and a standard devation of 0.5. then: -2 = miu-3.8 / (0.5 / sqrt(50)) ==> miu = 3.66\n",
    "   - e.g: a movie has 10 ratings with an average rating as 3.8 and a standard devation of 0.5. then: -2 = miu-3.8 / (0.5 / sqrt(10)) ==> miu = 3.48"
   ]
  },
  {
   "cell_type": "code",
   "execution_count": null,
   "id": "2dab8b29",
   "metadata": {},
   "outputs": [],
   "source": []
  }
 ],
 "metadata": {
  "kernelspec": {
   "display_name": "Python 3",
   "language": "python",
   "name": "python3"
  },
  "language_info": {
   "codemirror_mode": {
    "name": "ipython",
    "version": 3
   },
   "file_extension": ".py",
   "mimetype": "text/x-python",
   "name": "python",
   "nbconvert_exporter": "python",
   "pygments_lexer": "ipython3",
   "version": "3.9.6"
  }
 },
 "nbformat": 4,
 "nbformat_minor": 5
}
